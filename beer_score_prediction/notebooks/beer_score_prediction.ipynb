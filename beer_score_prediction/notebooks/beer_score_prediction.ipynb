{
 "cells": [
  {
   "cell_type": "markdown",
   "id": "496ac19f-7482-491f-802d-120ad1f4cb44",
   "metadata": {},
   "source": [
    "# Load Dataset"
   ]
  },
  {
   "cell_type": "code",
   "execution_count": 4,
   "id": "d0ac5cb0-167f-497a-a79c-c6cd57132d45",
   "metadata": {},
   "outputs": [],
   "source": [
    "# import libraries\n",
    "import pandas as pd\n",
    "import numpy as np\n",
    "import matplotlib.pyplot as plt\n",
    "from sklearn.model_selection import train_test_split\n",
    "%matplotlib inline"
   ]
  },
  {
   "cell_type": "code",
   "execution_count": 5,
   "id": "2920c847-22d4-4615-9235-5694b7e0e58d",
   "metadata": {},
   "outputs": [
    {
     "data": {
      "text/html": [
       "<div>\n",
       "<style scoped>\n",
       "    .dataframe tbody tr th:only-of-type {\n",
       "        vertical-align: middle;\n",
       "    }\n",
       "\n",
       "    .dataframe tbody tr th {\n",
       "        vertical-align: top;\n",
       "    }\n",
       "\n",
       "    .dataframe thead th {\n",
       "        text-align: right;\n",
       "    }\n",
       "</style>\n",
       "<table border=\"1\" class=\"dataframe\">\n",
       "  <thead>\n",
       "    <tr style=\"text-align: right;\">\n",
       "      <th></th>\n",
       "      <th>ABV</th>\n",
       "      <th>Ratings</th>\n",
       "      <th>Cellar Temperature</th>\n",
       "      <th>Score</th>\n",
       "    </tr>\n",
       "  </thead>\n",
       "  <tbody>\n",
       "    <tr>\n",
       "      <th>0</th>\n",
       "      <td>6.5</td>\n",
       "      <td>22</td>\n",
       "      <td>40-45</td>\n",
       "      <td>3.28</td>\n",
       "    </tr>\n",
       "    <tr>\n",
       "      <th>1</th>\n",
       "      <td>5.5</td>\n",
       "      <td>1</td>\n",
       "      <td>35-40</td>\n",
       "      <td>3.52</td>\n",
       "    </tr>\n",
       "    <tr>\n",
       "      <th>2</th>\n",
       "      <td>8.1</td>\n",
       "      <td>3</td>\n",
       "      <td>35-40</td>\n",
       "      <td>4.01</td>\n",
       "    </tr>\n",
       "    <tr>\n",
       "      <th>3</th>\n",
       "      <td>NaN</td>\n",
       "      <td>0</td>\n",
       "      <td>35-40</td>\n",
       "      <td>0.00</td>\n",
       "    </tr>\n",
       "    <tr>\n",
       "      <th>4</th>\n",
       "      <td>6.0</td>\n",
       "      <td>1</td>\n",
       "      <td>35-40</td>\n",
       "      <td>2.73</td>\n",
       "    </tr>\n",
       "  </tbody>\n",
       "</table>\n",
       "</div>"
      ],
      "text/plain": [
       "   ABV Ratings Cellar Temperature  Score\n",
       "0  6.5      22              40-45   3.28\n",
       "1  5.5       1              35-40   3.52\n",
       "2  8.1       3              35-40   4.01\n",
       "3  NaN       0              35-40   0.00\n",
       "4  6.0       1              35-40   2.73"
      ]
     },
     "execution_count": 5,
     "metadata": {},
     "output_type": "execute_result"
    }
   ],
   "source": [
    "# read dataset and print first 5 rows\n",
    "data = pd.read_csv('../data/beer_data.csv')\n",
    "data.head()"
   ]
  },
  {
   "cell_type": "code",
   "execution_count": 6,
   "id": "ba1184bd-8560-4731-90f7-4acb9ac5ca02",
   "metadata": {},
   "outputs": [
    {
     "data": {
      "text/plain": [
       "(185643, 4)"
      ]
     },
     "execution_count": 6,
     "metadata": {},
     "output_type": "execute_result"
    }
   ],
   "source": [
    "# print the shape of the dataset\n",
    "data.shape"
   ]
  },
  {
   "cell_type": "markdown",
   "id": "4d7df2cf-5bd6-4837-9107-1b681c3f227b",
   "metadata": {},
   "source": [
    "# Feature Engineering"
   ]
  },
  {
   "cell_type": "markdown",
   "id": "bb842c21-f225-4aa7-bd35-3e7b9b8fe2fe",
   "metadata": {},
   "source": [
    "### Handle null values"
   ]
  },
  {
   "cell_type": "code",
   "execution_count": 7,
   "id": "b00c0d41-59e6-43e1-8350-3ad2e213fc09",
   "metadata": {},
   "outputs": [
    {
     "data": {
      "text/plain": [
       "ABV                   15130\n",
       "Ratings                   0\n",
       "Cellar Temperature     6781\n",
       "Score                     0\n",
       "dtype: int64"
      ]
     },
     "execution_count": 7,
     "metadata": {},
     "output_type": "execute_result"
    }
   ],
   "source": [
    "# check null values\n",
    "data.isnull().sum()"
   ]
  },
  {
   "cell_type": "code",
   "execution_count": 8,
   "id": "1098a20a-d52f-45cd-893a-50962905f269",
   "metadata": {},
   "outputs": [],
   "source": [
    "# Drop null values of Cellar Temprature column\n",
    "data = data[~data['Cellar Temperature'].isnull()]\n",
    "data.reset_index(drop=True, inplace=True)"
   ]
  },
  {
   "cell_type": "code",
   "execution_count": 9,
   "id": "3e4b9913-6a31-4d9e-b9e7-9acba48165b0",
   "metadata": {},
   "outputs": [],
   "source": [
    "# fill ABV null values with the mean\n",
    "data['ABV'].fillna(data['ABV'].mean(), inplace=True)"
   ]
  },
  {
   "cell_type": "markdown",
   "id": "396366f6-ff3c-4e1f-9ab8-e66e3f97e6ac",
   "metadata": {
    "tags": []
   },
   "source": [
    "### Handle Categorical Values"
   ]
  },
  {
   "cell_type": "markdown",
   "id": "d35fb435-5b88-47e7-8ff7-aac08720a077",
   "metadata": {},
   "source": [
    "Ratings column have numerical data but as object type and have comma included.\n",
    "\n",
    "**For example**: 1,112\n",
    "\n",
    "So, remove the comma and convert the datatype to float"
   ]
  },
  {
   "cell_type": "code",
   "execution_count": 10,
   "id": "0c3c0975-9742-4b61-bd31-2962dc690e6c",
   "metadata": {},
   "outputs": [],
   "source": [
    "# remove ',' from the Ratings' column data and convert the column to float64\n",
    "data['Ratings'] = data['Ratings'].apply(lambda x: np.float64(x.replace(',', '')))"
   ]
  },
  {
   "cell_type": "markdown",
   "id": "ba04b66e-4ab2-493a-9a03-de2952b2b878",
   "metadata": {},
   "source": [
    "Cellar Temprature have numerical data but the data type is object.\n",
    "\n",
    "The data is in the form of **41-42**.\n",
    "So, basically the data is minimum temprature - maximum temprature. We can split this column into two separate columns.\n",
    "- min_temp\n",
    "- max_temp\n",
    "\n",
    "and then convert the data to float type."
   ]
  },
  {
   "cell_type": "code",
   "execution_count": 11,
   "id": "c02f1bcd-da7d-44bb-a428-ec01f46ebfc9",
   "metadata": {},
   "outputs": [],
   "source": [
    "data['min_cellar_temp'] = data['Cellar Temperature'].apply(lambda x: int(str(x).split('-')[0].strip()))\n",
    "data['max_cellar_temp'] = data['Cellar Temperature'].apply(lambda x: int(str(x).split('-')[1].strip()))"
   ]
  },
  {
   "cell_type": "markdown",
   "id": "1055dc11-2c8e-4b7b-96b1-f48227db9679",
   "metadata": {},
   "source": [
    "Drop Cellar Temprature column because we don't need this column"
   ]
  },
  {
   "cell_type": "code",
   "execution_count": 12,
   "id": "1340a767-1a5b-4822-bf37-b0642f9c95c0",
   "metadata": {},
   "outputs": [],
   "source": [
    "data.drop('Cellar Temperature', axis=1, inplace=True)"
   ]
  },
  {
   "cell_type": "markdown",
   "id": "d2c0e197-3264-42d3-a23c-ff307ef101d9",
   "metadata": {},
   "source": [
    "Our dataset is too large so let's shuffle the dataset and create a new dataset with the first 10,000 values "
   ]
  },
  {
   "cell_type": "code",
   "execution_count": 13,
   "id": "5694754d-6093-44d8-854f-5dd9e620a58a",
   "metadata": {},
   "outputs": [],
   "source": [
    "from sklearn.utils import shuffle\n",
    "data = shuffle(data)\n",
    "dataset_1 = data[:50000]"
   ]
  },
  {
   "cell_type": "markdown",
   "id": "b92660c7-716f-4f74-ad9f-724656e41ca8",
   "metadata": {},
   "source": [
    "Split data into **features** and **target**"
   ]
  },
  {
   "cell_type": "code",
   "execution_count": 14,
   "id": "d665eedf-45ca-4cf8-8d80-471984216e32",
   "metadata": {},
   "outputs": [],
   "source": [
    "# Split data into X and y\n",
    "X = dataset_1.drop('Score', axis=1)\n",
    "y = dataset_1['Score']"
   ]
  },
  {
   "cell_type": "markdown",
   "id": "99720d58-bba7-47ce-a60a-c42a14e3b26a",
   "metadata": {},
   "source": [
    "# Create Train and Test sets"
   ]
  },
  {
   "cell_type": "code",
   "execution_count": 15,
   "id": "3512c881-8fad-41d3-883e-940576bd2cbc",
   "metadata": {},
   "outputs": [],
   "source": [
    "# create train and test set\n",
    "X_train, X_test, y_train, y_test = train_test_split(X, y, test_size=0.4, random_state=42)"
   ]
  },
  {
   "cell_type": "markdown",
   "id": "90883316-7858-4a4b-a847-ffcec915c2f7",
   "metadata": {},
   "source": [
    "# Apply Support Vector Regression"
   ]
  },
  {
   "cell_type": "code",
   "execution_count": 16,
   "id": "c69b5860-677a-4d80-881d-814e07b8a37b",
   "metadata": {},
   "outputs": [],
   "source": [
    "# import support vector regressor\n",
    "from sklearn.svm import SVR\n",
    "\n",
    "model = SVR()\n",
    "\n",
    "# train the model using train data\n",
    "model.fit(X_train, y_train)\n",
    "\n",
    "# predict data for test set\n",
    "pred = model.predict(X_test)\n",
    "\n",
    "# evaluate the model using root mean log squared error\n",
    "def rmlse(y_test, pred):\n",
    "    error = np.square(np.log10(pred+1) - np.log10(y_test+1)).mean() ** 0.5\n",
    "    score = 1 - error\n",
    "    return score"
   ]
  },
  {
   "cell_type": "code",
   "execution_count": 17,
   "id": "e1b4e0b6-57e0-4e5d-a7f3-3c144af47670",
   "metadata": {},
   "outputs": [
    {
     "data": {
      "text/plain": [
       "0.7503006581836954"
      ]
     },
     "execution_count": 17,
     "metadata": {},
     "output_type": "execute_result"
    }
   ],
   "source": [
    "# print the score\n",
    "rmlse(y_test, pred)"
   ]
  },
  {
   "cell_type": "code",
   "execution_count": 18,
   "id": "291b658c-8516-4fa8-b28f-8fbd62939df0",
   "metadata": {},
   "outputs": [
    {
     "data": {
      "image/png": "[encoded data removed]",
      "text/plain": [
       "<Figure size 432x288 with 1 Axes>"
      ]
     },
     "metadata": {
      "needs_background": "light"
     },
     "output_type": "display_data"
    }
   ],
   "source": [
    "# plot the actual and predicted values to show the difference\n",
    "plt.scatter(y_test,pred)\n",
    "plt.xlabel('Actual')\n",
    "plt.ylabel('Predicted')\n",
    "plt.show();"
   ]
  },
  {
   "cell_type": "code",
   "execution_count": 24,
   "id": "d76fd585-b21c-4669-b7f5-bcee416bae7f",
   "metadata": {},
   "outputs": [],
   "source": [
    "# save the model\n",
    "import pickle\n",
    "\n",
    "pickle.dump(model, open('beer.model', 'wb'))"
   ]
  },
  {
   "cell_type": "code",
   "execution_count": null,
   "metadata": {},
   "outputs": [],
   "source": []
  }
 ],
 "metadata": {
  "interpreter": {
   "hash": "111cc56eb3996de29f68f89b8c0e7f94edf907f4d1600afa32fe7e1ecd213c12"
  },
  "kernelspec": {
   "display_name": "Python 3.9.7 64-bit",
   "name": "python3"
  },
  "language_info": {
   "codemirror_mode": {
    "name": "ipython",
    "version": 3
   },
   "file_extension": ".py",
   "mimetype": "text/x-python",
   "name": "python",
   "nbconvert_exporter": "python",
   "pygments_lexer": "ipython3",
   "version": "3.9.7"
  }
 },
 "nbformat": 4,
 "nbformat_minor": 5
}
